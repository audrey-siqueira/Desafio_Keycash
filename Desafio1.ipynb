{
  "nbformat": 4,
  "nbformat_minor": 0,
  "metadata": {
    "colab": {
      "name": "Desafio1.ipynb",
      "provenance": [],
      "mount_file_id": "1rbU1HoLZzkR6YDwOzcCQ2J5YJtfpwKSo",
      "authorship_tag": "ABX9TyOiiW4LjcPhUM8dmwMcjvpk",
      "include_colab_link": true
    },
    "kernelspec": {
      "name": "python3",
      "display_name": "Python 3"
    }
  },
  "cells": [
    {
      "cell_type": "markdown",
      "metadata": {
        "id": "view-in-github",
        "colab_type": "text"
      },
      "source": [
        "<a href=\"https://colab.research.google.com/github/audrey-siqueira/Desafio_Keycash/blob/main/Desafio1.ipynb\" target=\"_parent\"><img src=\"https://colab.research.google.com/assets/colab-badge.svg\" alt=\"Open In Colab\"/></a>"
      ]
    },
    {
      "cell_type": "markdown",
      "metadata": {
        "id": "rtiRrYoWxx_C"
      },
      "source": [
        "## Importando Bilbiotecas"
      ]
    },
    {
      "cell_type": "markdown",
      "metadata": {
        "id": "5Zw-ZddRx1gL"
      },
      "source": [
        "Vamos utilizar o SQLITE para trabalhar no ambiente do Colab"
      ]
    },
    {
      "cell_type": "code",
      "metadata": {
        "id": "joqJ8gl-J9Ea"
      },
      "source": [
        "import pandas as pd\r\n",
        "import sqlite3\r\n"
      ],
      "execution_count": null,
      "outputs": []
    },
    {
      "cell_type": "markdown",
      "metadata": {
        "id": "zbBAGqoJx8we"
      },
      "source": [
        "## Carregando banco de dados dos Imóveis"
      ]
    },
    {
      "cell_type": "markdown",
      "metadata": {
        "id": "TqSMonryyBPF"
      },
      "source": [
        "Os dados dos imóveis são carregados através do comando abaixo."
      ]
    },
    {
      "cell_type": "code",
      "metadata": {
        "id": "TVjdB0prPFXq",
        "colab": {
          "base_uri": "https://localhost:8080/",
          "height": 639
        },
        "outputId": "b686a7c5-0180-455c-d11e-7549699b0a66"
      },
      "source": [
        "conn = sqlite3.connect('exemplo_vazio.db')\r\n",
        "df = pd.read_csv('/content/drive/MyDrive/Colab Notebooks/Keycash/Desafio1_imoveis.csv',sep = ';')\r\n",
        "df.to_sql('tabela_imoveis',conn,if_exists='replace',index=False)\r\n",
        "df\r\n"
      ],
      "execution_count": null,
      "outputs": [
        {
          "output_type": "execute_result",
          "data": {
            "text/html": [
              "<div>\n",
              "<style scoped>\n",
              "    .dataframe tbody tr th:only-of-type {\n",
              "        vertical-align: middle;\n",
              "    }\n",
              "\n",
              "    .dataframe tbody tr th {\n",
              "        vertical-align: top;\n",
              "    }\n",
              "\n",
              "    .dataframe thead th {\n",
              "        text-align: right;\n",
              "    }\n",
              "</style>\n",
              "<table border=\"1\" class=\"dataframe\">\n",
              "  <thead>\n",
              "    <tr style=\"text-align: right;\">\n",
              "      <th></th>\n",
              "      <th>ID_IMOVEL</th>\n",
              "      <th>ID_BAIRRO</th>\n",
              "      <th>AREA_m2</th>\n",
              "      <th>PRECO</th>\n",
              "    </tr>\n",
              "  </thead>\n",
              "  <tbody>\n",
              "    <tr>\n",
              "      <th>0</th>\n",
              "      <td>1</td>\n",
              "      <td>1</td>\n",
              "      <td>126</td>\n",
              "      <td>827600</td>\n",
              "    </tr>\n",
              "    <tr>\n",
              "      <th>1</th>\n",
              "      <td>2</td>\n",
              "      <td>2</td>\n",
              "      <td>129</td>\n",
              "      <td>1111246</td>\n",
              "    </tr>\n",
              "    <tr>\n",
              "      <th>2</th>\n",
              "      <td>3</td>\n",
              "      <td>3</td>\n",
              "      <td>92</td>\n",
              "      <td>762763</td>\n",
              "    </tr>\n",
              "    <tr>\n",
              "      <th>3</th>\n",
              "      <td>4</td>\n",
              "      <td>1</td>\n",
              "      <td>96</td>\n",
              "      <td>748262</td>\n",
              "    </tr>\n",
              "    <tr>\n",
              "      <th>4</th>\n",
              "      <td>5</td>\n",
              "      <td>2</td>\n",
              "      <td>116</td>\n",
              "      <td>841057</td>\n",
              "    </tr>\n",
              "    <tr>\n",
              "      <th>5</th>\n",
              "      <td>6</td>\n",
              "      <td>3</td>\n",
              "      <td>99</td>\n",
              "      <td>658592</td>\n",
              "    </tr>\n",
              "    <tr>\n",
              "      <th>6</th>\n",
              "      <td>7</td>\n",
              "      <td>3</td>\n",
              "      <td>104</td>\n",
              "      <td>1022486</td>\n",
              "    </tr>\n",
              "    <tr>\n",
              "      <th>7</th>\n",
              "      <td>8</td>\n",
              "      <td>3</td>\n",
              "      <td>141</td>\n",
              "      <td>950101</td>\n",
              "    </tr>\n",
              "    <tr>\n",
              "      <th>8</th>\n",
              "      <td>9</td>\n",
              "      <td>2</td>\n",
              "      <td>101</td>\n",
              "      <td>1159807</td>\n",
              "    </tr>\n",
              "    <tr>\n",
              "      <th>9</th>\n",
              "      <td>10</td>\n",
              "      <td>1</td>\n",
              "      <td>140</td>\n",
              "      <td>1176378</td>\n",
              "    </tr>\n",
              "    <tr>\n",
              "      <th>10</th>\n",
              "      <td>11</td>\n",
              "      <td>1</td>\n",
              "      <td>121</td>\n",
              "      <td>861442</td>\n",
              "    </tr>\n",
              "    <tr>\n",
              "      <th>11</th>\n",
              "      <td>12</td>\n",
              "      <td>1</td>\n",
              "      <td>142</td>\n",
              "      <td>1134910</td>\n",
              "    </tr>\n",
              "    <tr>\n",
              "      <th>12</th>\n",
              "      <td>13</td>\n",
              "      <td>3</td>\n",
              "      <td>61</td>\n",
              "      <td>1000850</td>\n",
              "    </tr>\n",
              "    <tr>\n",
              "      <th>13</th>\n",
              "      <td>14</td>\n",
              "      <td>1</td>\n",
              "      <td>66</td>\n",
              "      <td>762721</td>\n",
              "    </tr>\n",
              "    <tr>\n",
              "      <th>14</th>\n",
              "      <td>15</td>\n",
              "      <td>1</td>\n",
              "      <td>90</td>\n",
              "      <td>1187119</td>\n",
              "    </tr>\n",
              "    <tr>\n",
              "      <th>15</th>\n",
              "      <td>16</td>\n",
              "      <td>2</td>\n",
              "      <td>119</td>\n",
              "      <td>1062869</td>\n",
              "    </tr>\n",
              "    <tr>\n",
              "      <th>16</th>\n",
              "      <td>17</td>\n",
              "      <td>2</td>\n",
              "      <td>100</td>\n",
              "      <td>902953</td>\n",
              "    </tr>\n",
              "    <tr>\n",
              "      <th>17</th>\n",
              "      <td>18</td>\n",
              "      <td>2</td>\n",
              "      <td>101</td>\n",
              "      <td>971834</td>\n",
              "    </tr>\n",
              "    <tr>\n",
              "      <th>18</th>\n",
              "      <td>19</td>\n",
              "      <td>3</td>\n",
              "      <td>110</td>\n",
              "      <td>875982</td>\n",
              "    </tr>\n",
              "    <tr>\n",
              "      <th>19</th>\n",
              "      <td>20</td>\n",
              "      <td>2</td>\n",
              "      <td>143</td>\n",
              "      <td>718857</td>\n",
              "    </tr>\n",
              "  </tbody>\n",
              "</table>\n",
              "</div>"
            ],
            "text/plain": [
              "    ID_IMOVEL  ID_BAIRRO  AREA_m2    PRECO\n",
              "0           1          1      126   827600\n",
              "1           2          2      129  1111246\n",
              "2           3          3       92   762763\n",
              "3           4          1       96   748262\n",
              "4           5          2      116   841057\n",
              "5           6          3       99   658592\n",
              "6           7          3      104  1022486\n",
              "7           8          3      141   950101\n",
              "8           9          2      101  1159807\n",
              "9          10          1      140  1176378\n",
              "10         11          1      121   861442\n",
              "11         12          1      142  1134910\n",
              "12         13          3       61  1000850\n",
              "13         14          1       66   762721\n",
              "14         15          1       90  1187119\n",
              "15         16          2      119  1062869\n",
              "16         17          2      100   902953\n",
              "17         18          2      101   971834\n",
              "18         19          3      110   875982\n",
              "19         20          2      143   718857"
            ]
          },
          "metadata": {
            "tags": []
          },
          "execution_count": 351
        }
      ]
    },
    {
      "cell_type": "markdown",
      "metadata": {
        "id": "3b9cTEJRyG-t"
      },
      "source": [
        "## Comando de SQL 1"
      ]
    },
    {
      "cell_type": "markdown",
      "metadata": {
        "id": "0BDlyxqQyMKD"
      },
      "source": [
        "Abaixo o comando SQL para buscar a Query desejada."
      ]
    },
    {
      "cell_type": "code",
      "metadata": {
        "id": "KzBmERfuP42r"
      },
      "source": [
        "sql='''select ID_BAIRRO,  ROUND(AVG(PRECO/AREA_m2),2) \r\n",
        "       from tabela_imoveis\r\n",
        "       where ID_BAIRRO='1' OR ID_BAIRRO='3' \r\n",
        "       GROUP by ID_BAIRRO\r\n",
        "       order by AVG(PRECO/AREA_m2) desc'''\r\n"
      ],
      "execution_count": null,
      "outputs": []
    },
    {
      "cell_type": "markdown",
      "metadata": {
        "id": "NonjpgeoyXOT"
      },
      "source": [
        "## Tabela Intermediária"
      ]
    },
    {
      "cell_type": "markdown",
      "metadata": {
        "id": "ekm4inKZyaOv"
      },
      "source": [
        "No comando abaixo foi calculado o Preço médio do metro quadrado para os bairros 1 e 3."
      ]
    },
    {
      "cell_type": "code",
      "metadata": {
        "colab": {
          "base_uri": "https://localhost:8080/",
          "height": 106
        },
        "id": "AKR7wVNEPs5R",
        "outputId": "1f1ab7fe-4d63-41a8-c22c-421e5f48c7fb"
      },
      "source": [
        "conn2 = sqlite3.connect('exemplo2_vazio.db')\r\n",
        "df2=pd.read_sql(sql,conn)\r\n",
        "df2.rename(columns = {'ROUND(AVG(PRECO/AREA_m2),2)':'Preço_Médio_do_m2'}, inplace = True)\r\n",
        "df2.to_sql('valor_medio',conn2,if_exists='replace',index=False)\r\n",
        "df2\r\n",
        "\r\n"
      ],
      "execution_count": null,
      "outputs": [
        {
          "output_type": "execute_result",
          "data": {
            "text/html": [
              "<div>\n",
              "<style scoped>\n",
              "    .dataframe tbody tr th:only-of-type {\n",
              "        vertical-align: middle;\n",
              "    }\n",
              "\n",
              "    .dataframe tbody tr th {\n",
              "        vertical-align: top;\n",
              "    }\n",
              "\n",
              "    .dataframe thead th {\n",
              "        text-align: right;\n",
              "    }\n",
              "</style>\n",
              "<table border=\"1\" class=\"dataframe\">\n",
              "  <thead>\n",
              "    <tr style=\"text-align: right;\">\n",
              "      <th></th>\n",
              "      <th>ID_BAIRRO</th>\n",
              "      <th>Preço_Médio_do_m2</th>\n",
              "    </tr>\n",
              "  </thead>\n",
              "  <tbody>\n",
              "    <tr>\n",
              "      <th>0</th>\n",
              "      <td>3</td>\n",
              "      <td>9313.50</td>\n",
              "    </tr>\n",
              "    <tr>\n",
              "      <th>1</th>\n",
              "      <td>1</td>\n",
              "      <td>8945.86</td>\n",
              "    </tr>\n",
              "  </tbody>\n",
              "</table>\n",
              "</div>"
            ],
            "text/plain": [
              "   ID_BAIRRO  Preço_Médio_do_m2\n",
              "0          3            9313.50\n",
              "1          1            8945.86"
            ]
          },
          "metadata": {
            "tags": []
          },
          "execution_count": 366
        }
      ]
    },
    {
      "cell_type": "markdown",
      "metadata": {
        "id": "6O4YP0LSynw4"
      },
      "source": [
        "## Carregando banco de dados dos Bairros"
      ]
    },
    {
      "cell_type": "code",
      "metadata": {
        "colab": {
          "base_uri": "https://localhost:8080/",
          "height": 195
        },
        "id": "mT-IDfjkf9NL",
        "outputId": "71d9136f-0c19-47ce-dab8-2860f6cda847"
      },
      "source": [
        "df3 = pd.read_csv('/content/drive/MyDrive/Colab Notebooks/Keycash/Desafio1_nome_bairros.csv',sep = ';')\r\n",
        "df3.to_sql('tabela_bairros',conn2,if_exists='replace',index=False)\r\n",
        "df3"
      ],
      "execution_count": null,
      "outputs": [
        {
          "output_type": "execute_result",
          "data": {
            "text/html": [
              "<div>\n",
              "<style scoped>\n",
              "    .dataframe tbody tr th:only-of-type {\n",
              "        vertical-align: middle;\n",
              "    }\n",
              "\n",
              "    .dataframe tbody tr th {\n",
              "        vertical-align: top;\n",
              "    }\n",
              "\n",
              "    .dataframe thead th {\n",
              "        text-align: right;\n",
              "    }\n",
              "</style>\n",
              "<table border=\"1\" class=\"dataframe\">\n",
              "  <thead>\n",
              "    <tr style=\"text-align: right;\">\n",
              "      <th></th>\n",
              "      <th>ID_BAIRRO</th>\n",
              "      <th>NOME_BAIRRO</th>\n",
              "      <th>ATUACAO</th>\n",
              "    </tr>\n",
              "  </thead>\n",
              "  <tbody>\n",
              "    <tr>\n",
              "      <th>0</th>\n",
              "      <td>1</td>\n",
              "      <td>Itaim Bibi</td>\n",
              "      <td>S</td>\n",
              "    </tr>\n",
              "    <tr>\n",
              "      <th>1</th>\n",
              "      <td>2</td>\n",
              "      <td>Vila Olimpia</td>\n",
              "      <td>N</td>\n",
              "    </tr>\n",
              "    <tr>\n",
              "      <th>2</th>\n",
              "      <td>3</td>\n",
              "      <td>Pinheiros</td>\n",
              "      <td>S</td>\n",
              "    </tr>\n",
              "    <tr>\n",
              "      <th>3</th>\n",
              "      <td>4</td>\n",
              "      <td>Vila Madalena</td>\n",
              "      <td>N</td>\n",
              "    </tr>\n",
              "    <tr>\n",
              "      <th>4</th>\n",
              "      <td>5</td>\n",
              "      <td>Vila Mariana</td>\n",
              "      <td>N</td>\n",
              "    </tr>\n",
              "  </tbody>\n",
              "</table>\n",
              "</div>"
            ],
            "text/plain": [
              "   ID_BAIRRO    NOME_BAIRRO ATUACAO\n",
              "0          1     Itaim Bibi       S\n",
              "1          2   Vila Olimpia       N\n",
              "2          3      Pinheiros       S\n",
              "3          4  Vila Madalena       N\n",
              "4          5   Vila Mariana       N"
            ]
          },
          "metadata": {
            "tags": []
          },
          "execution_count": 367
        }
      ]
    },
    {
      "cell_type": "markdown",
      "metadata": {
        "id": "N6ZAgjtVythc"
      },
      "source": [
        "## Comando de SQL 2"
      ]
    },
    {
      "cell_type": "markdown",
      "metadata": {
        "id": "35mbc4vIyxKE"
      },
      "source": [
        "Abaixo o comando SQL para buscar a Query desejada anexando a tabela de Bairros a tabela de Imóveis."
      ]
    },
    {
      "cell_type": "code",
      "metadata": {
        "id": "ZmGUPfezzd8B"
      },
      "source": [
        "sql2='''SELECT tabela_bairros.NOME_BAIRRO,valor_medio.Preço_Médio_do_m2\r\n",
        "        FROM tabela_bairros\r\n",
        "        INNER JOIN valor_medio ON tabela_bairros.ID_BAIRRO = valor_medio.ID_BAIRRO\r\n",
        "        order by Preço_Médio_do_m2 desc'''"
      ],
      "execution_count": null,
      "outputs": []
    },
    {
      "cell_type": "markdown",
      "metadata": {
        "id": "k0BPLAAJy5XM"
      },
      "source": [
        "## Tabela Final"
      ]
    },
    {
      "cell_type": "markdown",
      "metadata": {
        "id": "Nt9-2ez2y8lz"
      },
      "source": [
        "O resultado final é obtido, sabendo o Preço médio do metro quadrado dos imóveis dos bairros 1 e 3, que através da tabela de Bairros, nos informou serem os bairros Itaim Bibi e Pinheiros. Os resultados foram apresentados de forma descrescente em relação aos preços."
      ]
    },
    {
      "cell_type": "code",
      "metadata": {
        "colab": {
          "base_uri": "https://localhost:8080/",
          "height": 106
        },
        "id": "ZQrk24PzlXNI",
        "outputId": "daeaed65-18fa-44ee-f091-f0dabbfc043c"
      },
      "source": [
        "conn3 = sqlite3.connect('exemplo3_vazio.db')\r\n",
        "df4=pd.read_sql(sql2,conn2)\r\n",
        "df4.to_sql('tabela_final',conn3,if_exists='replace',index=False)\r\n",
        "df4\r\n"
      ],
      "execution_count": null,
      "outputs": [
        {
          "output_type": "execute_result",
          "data": {
            "text/html": [
              "<div>\n",
              "<style scoped>\n",
              "    .dataframe tbody tr th:only-of-type {\n",
              "        vertical-align: middle;\n",
              "    }\n",
              "\n",
              "    .dataframe tbody tr th {\n",
              "        vertical-align: top;\n",
              "    }\n",
              "\n",
              "    .dataframe thead th {\n",
              "        text-align: right;\n",
              "    }\n",
              "</style>\n",
              "<table border=\"1\" class=\"dataframe\">\n",
              "  <thead>\n",
              "    <tr style=\"text-align: right;\">\n",
              "      <th></th>\n",
              "      <th>NOME_BAIRRO</th>\n",
              "      <th>Preço_Médio_do_m2</th>\n",
              "    </tr>\n",
              "  </thead>\n",
              "  <tbody>\n",
              "    <tr>\n",
              "      <th>0</th>\n",
              "      <td>Pinheiros</td>\n",
              "      <td>9313.50</td>\n",
              "    </tr>\n",
              "    <tr>\n",
              "      <th>1</th>\n",
              "      <td>Itaim Bibi</td>\n",
              "      <td>8945.86</td>\n",
              "    </tr>\n",
              "  </tbody>\n",
              "</table>\n",
              "</div>"
            ],
            "text/plain": [
              "  NOME_BAIRRO  Preço_Médio_do_m2\n",
              "0   Pinheiros            9313.50\n",
              "1  Itaim Bibi            8945.86"
            ]
          },
          "metadata": {
            "tags": []
          },
          "execution_count": 369
        }
      ]
    }
  ]
}